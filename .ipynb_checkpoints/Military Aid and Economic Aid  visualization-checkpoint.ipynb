{
 "cells": [
  {
   "cell_type": "markdown",
   "metadata": {},
   "source": [
    " By Venkata Priyanka Sagi\n",
    "\n",
    " The code was completed to show total Economic and Military Aid for the year 2002-2017."
   ]
  },
  {
   "cell_type": "code",
   "execution_count": null,
   "metadata": {},
   "outputs": [],
   "source": [
    "#Import dependencies\n",
    "import pandas as pd\n",
    "import matplotlib.pyplot as plt\n",
    "import numpy as np"
   ]
  },
  {
   "cell_type": "code",
   "execution_count": 22,
   "metadata": {},
   "outputs": [
    {
     "data": {
      "text/html": [
       "<div>\n",
       "<style scoped>\n",
       "    .dataframe tbody tr th:only-of-type {\n",
       "        vertical-align: middle;\n",
       "    }\n",
       "\n",
       "    .dataframe tbody tr th {\n",
       "        vertical-align: top;\n",
       "    }\n",
       "\n",
       "    .dataframe thead th {\n",
       "        text-align: right;\n",
       "    }\n",
       "</style>\n",
       "<table border=\"1\" class=\"dataframe\">\n",
       "  <thead>\n",
       "    <tr style=\"text-align: right;\">\n",
       "      <th></th>\n",
       "      <th>Row Labels</th>\n",
       "      <th>Year</th>\n",
       "      <th>Economic</th>\n",
       "      <th>Military</th>\n",
       "      <th>Grand Total</th>\n",
       "    </tr>\n",
       "  </thead>\n",
       "  <tbody>\n",
       "    <tr>\n",
       "      <th>0</th>\n",
       "      <td>Angola</td>\n",
       "      <td>2002</td>\n",
       "      <td>1.659227e+08</td>\n",
       "      <td>0.000000</td>\n",
       "      <td>1.659227e+08</td>\n",
       "    </tr>\n",
       "    <tr>\n",
       "      <th>1</th>\n",
       "      <td>Angola</td>\n",
       "      <td>2003</td>\n",
       "      <td>2.155944e+08</td>\n",
       "      <td>395057.529807</td>\n",
       "      <td>2.159894e+08</td>\n",
       "    </tr>\n",
       "    <tr>\n",
       "      <th>2</th>\n",
       "      <td>Angola</td>\n",
       "      <td>2004</td>\n",
       "      <td>1.520490e+08</td>\n",
       "      <td>638258.217553</td>\n",
       "      <td>1.526873e+08</td>\n",
       "    </tr>\n",
       "    <tr>\n",
       "      <th>3</th>\n",
       "      <td>Angola</td>\n",
       "      <td>2005</td>\n",
       "      <td>8.311513e+07</td>\n",
       "      <td>387385.061877</td>\n",
       "      <td>8.350252e+07</td>\n",
       "    </tr>\n",
       "    <tr>\n",
       "      <th>4</th>\n",
       "      <td>Angola</td>\n",
       "      <td>2006</td>\n",
       "      <td>9.623060e+07</td>\n",
       "      <td>768343.338990</td>\n",
       "      <td>9.699894e+07</td>\n",
       "    </tr>\n",
       "  </tbody>\n",
       "</table>\n",
       "</div>"
      ],
      "text/plain": [
       "  Row Labels  Year      Economic       Military   Grand Total\n",
       "0     Angola  2002  1.659227e+08       0.000000  1.659227e+08\n",
       "1     Angola  2003  2.155944e+08  395057.529807  2.159894e+08\n",
       "2     Angola  2004  1.520490e+08  638258.217553  1.526873e+08\n",
       "3     Angola  2005  8.311513e+07  387385.061877  8.350252e+07\n",
       "4     Angola  2006  9.623060e+07  768343.338990  9.699894e+07"
      ]
     },
     "execution_count": 22,
     "metadata": {},
     "output_type": "execute_result"
    }
   ],
   "source": [
    "#Load and Read the Aid data\n",
    "file1 = \"Economic_vs_Military.xlsx\"\n",
    "Aid_df = pd.read_excel(file1)\n",
    "Aid_df.head()"
   ]
  },
  {
   "cell_type": "code",
   "execution_count": 23,
   "metadata": {},
   "outputs": [
    {
     "data": {
      "text/html": [
       "<div>\n",
       "<style scoped>\n",
       "    .dataframe tbody tr th:only-of-type {\n",
       "        vertical-align: middle;\n",
       "    }\n",
       "\n",
       "    .dataframe tbody tr th {\n",
       "        vertical-align: top;\n",
       "    }\n",
       "\n",
       "    .dataframe thead th {\n",
       "        text-align: right;\n",
       "    }\n",
       "</style>\n",
       "<table border=\"1\" class=\"dataframe\">\n",
       "  <thead>\n",
       "    <tr style=\"text-align: right;\">\n",
       "      <th></th>\n",
       "      <th>Economic</th>\n",
       "      <th>Military</th>\n",
       "    </tr>\n",
       "    <tr>\n",
       "      <th>Year</th>\n",
       "      <th></th>\n",
       "      <th></th>\n",
       "    </tr>\n",
       "  </thead>\n",
       "  <tbody>\n",
       "    <tr>\n",
       "      <th>2002</th>\n",
       "      <td>1.659227e+08</td>\n",
       "      <td>0.000000</td>\n",
       "    </tr>\n",
       "    <tr>\n",
       "      <th>2003</th>\n",
       "      <td>2.155944e+08</td>\n",
       "      <td>395057.529807</td>\n",
       "    </tr>\n",
       "    <tr>\n",
       "      <th>2004</th>\n",
       "      <td>1.520490e+08</td>\n",
       "      <td>638258.217553</td>\n",
       "    </tr>\n",
       "    <tr>\n",
       "      <th>2005</th>\n",
       "      <td>8.311513e+07</td>\n",
       "      <td>387385.061877</td>\n",
       "    </tr>\n",
       "    <tr>\n",
       "      <th>2006</th>\n",
       "      <td>9.623060e+07</td>\n",
       "      <td>768343.338990</td>\n",
       "    </tr>\n",
       "  </tbody>\n",
       "</table>\n",
       "</div>"
      ],
      "text/plain": [
       "          Economic       Military\n",
       "Year                             \n",
       "2002  1.659227e+08       0.000000\n",
       "2003  2.155944e+08  395057.529807\n",
       "2004  1.520490e+08  638258.217553\n",
       "2005  8.311513e+07  387385.061877\n",
       "2006  9.623060e+07  768343.338990"
      ]
     },
     "execution_count": 23,
     "metadata": {},
     "output_type": "execute_result"
    }
   ],
   "source": [
    "#Rename and filter  the columns and set index to Year\n",
    "Aid_df=Aid_df.rename(columns={\"Row Labels\":\"Country\"})\n",
    "\n",
    "Aid_df=Aid_df[[\"Year\",\"Economic\",\"Military\"]]\n",
    "Aid_df=Aid_df.set_index(\"Year\")\n",
    "\n",
    "Aid_df.head()"
   ]
  },
  {
   "cell_type": "code",
   "execution_count": 24,
   "metadata": {},
   "outputs": [
    {
     "data": {
      "text/plain": [
       "<pandas.core.groupby.generic.DataFrameGroupBy object at 0x11bd9b9b0>"
      ]
     },
     "execution_count": 24,
     "metadata": {},
     "output_type": "execute_result"
    }
   ],
   "source": [
    "#Group by year\n",
    "Grouped_Aid_df=Aid_df.groupby([\"Year\"])\n",
    "Grouped_Aid_df"
   ]
  },
  {
   "cell_type": "code",
   "execution_count": 25,
   "metadata": {},
   "outputs": [
    {
     "data": {
      "text/plain": [
       "Year\n",
       "2002    1.671797e+09\n",
       "2003    2.372748e+09\n",
       "2004    2.191941e+09\n",
       "2005    2.906894e+09\n",
       "2006    2.621961e+09\n",
       "Name: Economic, dtype: float64"
      ]
     },
     "execution_count": 25,
     "metadata": {},
     "output_type": "execute_result"
    }
   ],
   "source": [
    "#Calculate the sum of economic aid for every year\n",
    "Grouped_Aid_df_Economic_sum=Grouped_Aid_df[\"Economic\"].sum()\n",
    "Grouped_Aid_df_Economic_sum.head()"
   ]
  },
  {
   "cell_type": "code",
   "execution_count": 26,
   "metadata": {},
   "outputs": [],
   "source": [
    "#Calculate the sum of Economic and Military aid for every year\n",
    "Grouped_Aid_df_sum=Grouped_Aid_df[\"Economic\",\"Military\"].sum()"
   ]
  },
  {
   "cell_type": "code",
   "execution_count": 27,
   "metadata": {},
   "outputs": [
    {
     "data": {
      "text/html": [
       "<div>\n",
       "<style scoped>\n",
       "    .dataframe tbody tr th:only-of-type {\n",
       "        vertical-align: middle;\n",
       "    }\n",
       "\n",
       "    .dataframe tbody tr th {\n",
       "        vertical-align: top;\n",
       "    }\n",
       "\n",
       "    .dataframe thead th {\n",
       "        text-align: right;\n",
       "    }\n",
       "</style>\n",
       "<table border=\"1\" class=\"dataframe\">\n",
       "  <thead>\n",
       "    <tr style=\"text-align: right;\">\n",
       "      <th></th>\n",
       "      <th>Economic</th>\n",
       "      <th>Military</th>\n",
       "    </tr>\n",
       "    <tr>\n",
       "      <th>Year</th>\n",
       "      <th></th>\n",
       "      <th></th>\n",
       "    </tr>\n",
       "  </thead>\n",
       "  <tbody>\n",
       "    <tr>\n",
       "      <th>2002</th>\n",
       "      <td>1.671797e+09</td>\n",
       "      <td>5.238294e+07</td>\n",
       "    </tr>\n",
       "    <tr>\n",
       "      <th>2003</th>\n",
       "      <td>2.372748e+09</td>\n",
       "      <td>2.819738e+07</td>\n",
       "    </tr>\n",
       "    <tr>\n",
       "      <th>2004</th>\n",
       "      <td>2.191941e+09</td>\n",
       "      <td>2.664600e+07</td>\n",
       "    </tr>\n",
       "    <tr>\n",
       "      <th>2005</th>\n",
       "      <td>2.906894e+09</td>\n",
       "      <td>3.959620e+07</td>\n",
       "    </tr>\n",
       "    <tr>\n",
       "      <th>2006</th>\n",
       "      <td>2.621961e+09</td>\n",
       "      <td>1.467278e+07</td>\n",
       "    </tr>\n",
       "  </tbody>\n",
       "</table>\n",
       "</div>"
      ],
      "text/plain": [
       "          Economic      Military\n",
       "Year                            \n",
       "2002  1.671797e+09  5.238294e+07\n",
       "2003  2.372748e+09  2.819738e+07\n",
       "2004  2.191941e+09  2.664600e+07\n",
       "2005  2.906894e+09  3.959620e+07\n",
       "2006  2.621961e+09  1.467278e+07"
      ]
     },
     "execution_count": 27,
     "metadata": {},
     "output_type": "execute_result"
    }
   ],
   "source": [
    "#Display\n",
    "Grouped_Aid_df_sum.head()"
   ]
  },
  {
   "cell_type": "code",
   "execution_count": 29,
   "metadata": {},
   "outputs": [
    {
     "data": {
      "image/png": "[encoded data removed]",
      "text/plain": [
       "<Figure size 720x504 with 1 Axes>"
      ]
     },
     "metadata": {
      "needs_background": "light"
     },
     "output_type": "display_data"
    }
   ],
   "source": [
    "#Plotting  total Economic vs Military aid for every year\n",
    "colors = [\"#31A354\",\"#0000FF\",]\n",
    "\n",
    "Grouped_Aid_df_sum_plot=Grouped_Aid_df_sum.loc[:,['Economic','Military']].plot.bar(stacked=True, color=colors, figsize=(10,7))\n",
    "Grouped_Aid_df_sum_plot.set_ylabel(\"Economic Vs Military Aid\")\n",
    "plt.title(\"Economic and Military Aid per year\")\n",
    "plt.show()"
   ]
  },
  {
   "cell_type": "code",
   "execution_count": null,
   "metadata": {},
   "outputs": [],
   "source": []
  },
  {
   "cell_type": "code",
   "execution_count": null,
   "metadata": {},
   "outputs": [],
   "source": []
  },
  {
   "cell_type": "code",
   "execution_count": null,
   "metadata": {},
   "outputs": [],
   "source": []
  }
 ],
 "metadata": {
  "kernelspec": {
   "display_name": "Python 3",
   "language": "python",
   "name": "python3"
  },
  "language_info": {
   "codemirror_mode": {
    "name": "ipython",
    "version": 3
   },
   "file_extension": ".py",
   "mimetype": "text/x-python",
   "name": "python",
   "nbconvert_exporter": "python",
   "pygments_lexer": "ipython3",
   "version": "3.7.3"
  }
 },
 "nbformat": 4,
 "nbformat_minor": 2
}

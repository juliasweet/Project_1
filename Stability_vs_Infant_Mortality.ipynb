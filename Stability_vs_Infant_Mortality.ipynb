{
 "cells": [
  {
   "cell_type": "code",
   "execution_count": 10,
   "metadata": {},
   "outputs": [
    {
     "data": {
      "text/html": [
       "        <script type=\"text/javascript\">\n",
       "        window.PlotlyConfig = {MathJaxConfig: 'local'};\n",
       "        if (window.MathJax) {MathJax.Hub.Config({SVG: {font: \"STIX-Web\"}});}\n",
       "        if (typeof require !== 'undefined') {\n",
       "        require.undef(\"plotly\");\n",
       "        requirejs.config({\n",
       "            paths: {\n",
       "                'plotly': ['https://cdn.plot.ly/plotly-latest.min']\n",
       "            }\n",
       "        });\n",
       "        require(['plotly'], function(Plotly) {\n",
       "            window._Plotly = Plotly;\n",
       "        });\n",
       "        }\n",
       "        </script>\n",
       "        "
      ]
     },
     "metadata": {},
     "output_type": "display_data"
    }
   ],
   "source": [
    "import pandas as pd\n",
    "import numpy as np\n",
    "import wbpy\n",
    "import plotly \n",
    "import cufflinks as cf\n",
    "cf.go_offline()\n",
    "cf.set_config_file(offline=False, world_readable=True)\n",
    "plotly.tools.set_credentials_file(username='richongo', api_key='knfESm6zSffWin5ujtln')\n",
    "import matplotlib.pyplot as plt\n",
    "import scipy.stats as stats"
   ]
  },
  {
   "cell_type": "code",
   "execution_count": 11,
   "metadata": {},
   "outputs": [
    {
     "data": {
      "text/html": [
       "<div>\n",
       "<style scoped>\n",
       "    .dataframe tbody tr th:only-of-type {\n",
       "        vertical-align: middle;\n",
       "    }\n",
       "\n",
       "    .dataframe tbody tr th {\n",
       "        vertical-align: top;\n",
       "    }\n",
       "\n",
       "    .dataframe thead th {\n",
       "        text-align: right;\n",
       "    }\n",
       "</style>\n",
       "<table border=\"1\" class=\"dataframe\">\n",
       "  <thead>\n",
       "    <tr style=\"text-align: right;\">\n",
       "      <th></th>\n",
       "      <th>Country</th>\n",
       "      <th>Year</th>\n",
       "      <th>Economic</th>\n",
       "      <th>Military</th>\n",
       "      <th>Grand Total</th>\n",
       "    </tr>\n",
       "  </thead>\n",
       "  <tbody>\n",
       "    <tr>\n",
       "      <th>0</th>\n",
       "      <td>Angola</td>\n",
       "      <td>2002</td>\n",
       "      <td>1.659227e+08</td>\n",
       "      <td>0.000000</td>\n",
       "      <td>1.659227e+08</td>\n",
       "    </tr>\n",
       "    <tr>\n",
       "      <th>1</th>\n",
       "      <td>Angola</td>\n",
       "      <td>2003</td>\n",
       "      <td>2.155944e+08</td>\n",
       "      <td>395057.529807</td>\n",
       "      <td>2.159894e+08</td>\n",
       "    </tr>\n",
       "    <tr>\n",
       "      <th>2</th>\n",
       "      <td>Angola</td>\n",
       "      <td>2004</td>\n",
       "      <td>1.520490e+08</td>\n",
       "      <td>638258.217553</td>\n",
       "      <td>1.526873e+08</td>\n",
       "    </tr>\n",
       "    <tr>\n",
       "      <th>3</th>\n",
       "      <td>Angola</td>\n",
       "      <td>2005</td>\n",
       "      <td>8.311513e+07</td>\n",
       "      <td>387385.061877</td>\n",
       "      <td>8.350252e+07</td>\n",
       "    </tr>\n",
       "    <tr>\n",
       "      <th>4</th>\n",
       "      <td>Angola</td>\n",
       "      <td>2006</td>\n",
       "      <td>9.623060e+07</td>\n",
       "      <td>768343.338990</td>\n",
       "      <td>9.699894e+07</td>\n",
       "    </tr>\n",
       "  </tbody>\n",
       "</table>\n",
       "</div>"
      ],
      "text/plain": [
       "  Country  Year      Economic       Military   Grand Total\n",
       "0  Angola  2002  1.659227e+08       0.000000  1.659227e+08\n",
       "1  Angola  2003  2.155944e+08  395057.529807  2.159894e+08\n",
       "2  Angola  2004  1.520490e+08  638258.217553  1.526873e+08\n",
       "3  Angola  2005  8.311513e+07  387385.061877  8.350252e+07\n",
       "4  Angola  2006  9.623060e+07  768343.338990  9.699894e+07"
      ]
     },
     "execution_count": 11,
     "metadata": {},
     "output_type": "execute_result"
    }
   ],
   "source": [
    "#Import Aid data\n",
    "file1 = \"Economic_vs_Military.xlsx\"\n",
    "Aid_df = pd.read_excel(file1)\n",
    "Aid_df = Aid_df.rename(columns={\"Row Labels\": \"Country\"})\n",
    "\n",
    "#show Aid data\n",
    "Aid_df.head()"
   ]
  },
  {
   "cell_type": "code",
   "execution_count": 12,
   "metadata": {},
   "outputs": [
    {
     "data": {
      "text/plain": [
       "<wbpy.indicators.IndicatorDataset('SH.DTH.IMRT', 'Number of infant deaths') with id: 2171990578624>"
      ]
     },
     "execution_count": 12,
     "metadata": {},
     "output_type": "execute_result"
    }
   ],
   "source": [
    "api = wbpy.IndicatorAPI()\n",
    "\n",
    "iso_country_codes = [\"KEN\", \"ZAF\", \"NGA\", \"ZWE\", \"ETH\", \"UGA\",\n",
    "                     \"GHA\", \"SEN\", \"MDG\", \"MOZ\", \"NAM\", \"BDI\",\n",
    "                    \"BEN\", \"SOM\", \"MLI\", \"AGO\", \"SLE\", \"RWA\"]\n",
    "\n",
    "infant_mortality = \"SH.DTH.IMRT\"\n",
    "\n",
    "dataset_IMRT = api.get_dataset(infant_mortality, iso_country_codes, date=\"2002:2017\")\n",
    "dataset_IMRT"
   ]
  },
  {
   "cell_type": "code",
   "execution_count": 13,
   "metadata": {},
   "outputs": [
    {
     "data": {
      "text/plain": [
       "<bound method NDFrame.head of     Year   Angola  Burundi    Benin  Ethiopia    Ghana    Kenya  Madagascar  \\\n",
       "0   2002  95971.0  24984.0  25051.0  236821.0  41281.0  75705.0     40879.0   \n",
       "1   2003  95253.0  24759.0  24920.0  227584.0  40940.0  73661.0     39524.0   \n",
       "2   2004  93986.0  24537.0  24813.0  217766.0  40789.0  71278.0     38252.0   \n",
       "3   2005  92430.0  24267.0  24755.0  207679.0  40758.0  68408.0     37048.0   \n",
       "4   2006  90346.0  23937.0  24793.0  198004.0  40772.0  65861.0     35925.0   \n",
       "5   2007  87956.0  23534.0  24901.0  189064.0  40712.0  63637.0     34801.0   \n",
       "6   2008  85249.0  23068.0  25086.0  180863.0  40498.0  60970.0     33681.0   \n",
       "7   2009  82217.0  22576.0  25313.0  173475.0  40037.0  59177.0     32601.0   \n",
       "8   2010  79220.0  22090.0  25560.0  166949.0  39274.0  57429.0     31536.0   \n",
       "9   2011  76226.0  21596.0  25785.0  161040.0  38342.0  56255.0     30498.0   \n",
       "10  2012  73448.0  21071.0  25948.0  155642.0  37260.0  55733.0     29580.0   \n",
       "11  2013  70939.0  20582.0  26014.0  150446.0  36068.0  54694.0     28857.0   \n",
       "12  2014  68913.0  20085.0  25993.0  145625.0  34767.0  53499.0     28296.0   \n",
       "13  2015  67337.0  19683.0  25886.0  141119.0  33472.0  52151.0     27871.0   \n",
       "14  2016  65993.0  19343.0  25744.0  136965.0  32266.0  51524.0     27472.0   \n",
       "15  2017  65045.0  19045.0  25561.0  133153.0  31153.0  51053.0     27165.0   \n",
       "\n",
       "       Mali  Mozambique  Namibia   Nigeria   Rwanda  Senegal  Sierra Leone  \\\n",
       "0   59444.0     85134.0   2804.0  568287.0  29228.0  25026.0       29723.0   \n",
       "1   58812.0     82977.0   2780.0  564928.0  27352.0  24344.0       29885.0   \n",
       "2   58033.0     80906.0   2724.0  560267.0  25200.0  23665.0       29984.0   \n",
       "3   57135.0     78926.0   2559.0  554716.0  23209.0  23032.0       29984.0   \n",
       "4   56376.0     76947.0   2461.0  548359.0  21394.0  22467.0       29798.0   \n",
       "5   55702.0     74209.0   2419.0  541470.0  19749.0  21972.0       29424.0   \n",
       "6   55131.0     72452.0   2432.0  534525.0  18350.0  21537.0       28846.0   \n",
       "7   54554.0     70380.0   2505.0  527344.0  17111.0  21148.0       28060.0   \n",
       "8   53953.0     69718.0   2473.0  520087.0  15931.0  20772.0       27164.0   \n",
       "9   53441.0     67191.0   2509.0  512805.0  14575.0  20409.0       26153.0   \n",
       "10  52862.0     65093.0   2586.0  504876.0  13594.0  20010.0       25143.0   \n",
       "11  52373.0     63604.0   2547.0  497427.0  12763.0  19576.0       24156.0   \n",
       "12  51935.0     62706.0   2526.0  490035.0  12093.0  19142.0       23211.0   \n",
       "13  51443.0     61823.0   2468.0  481720.0  11555.0  18707.0       22349.0   \n",
       "14  50871.0     61004.0   2337.0  473758.0  11082.0  18312.0       21597.0   \n",
       "15  50492.0     60047.0   2292.0  465681.0  10677.0  17950.0       20935.0   \n",
       "\n",
       "    Somalia   Uganda  South Africa  Zimbabwe  \n",
       "0   46562.0  98596.0       59495.0   23990.0  \n",
       "1   47551.0  96119.0       59666.0   24394.0  \n",
       "2   48604.0  93242.0       59263.0   25221.0  \n",
       "3   49701.0  90154.0       58548.0   26068.0  \n",
       "4   50689.0  87169.0       57132.0   27209.0  \n",
       "5   51337.0  84191.0       53669.0   27925.0  \n",
       "6   51583.0  81316.0       51213.0   28188.0  \n",
       "7   51667.0  79262.0       46360.0   28125.0  \n",
       "8   51521.0  76848.0       44405.0   27549.0  \n",
       "9   51167.0  74379.0       43252.0   26649.0  \n",
       "10  50913.0  71165.0       42110.0   25109.0  \n",
       "11  50572.0  69216.0       39929.0   23819.0  \n",
       "12  50325.0  67569.0       38049.0   22377.0  \n",
       "13  50105.0  65764.0       37261.0   21332.0  \n",
       "14  49887.0  63831.0       35010.0   20302.0  \n",
       "15  49554.0  62416.0       33536.0   19375.0  >"
      ]
     },
     "execution_count": 13,
     "metadata": {},
     "output_type": "execute_result"
    }
   ],
   "source": [
    "d=dataset_IMRT.as_dict() \n",
    "infant_mortality_df=pd.DataFrame(data=d)\n",
    "infant_mortality_df\n",
    "infant_mortality_df = infant_mortality_df.rename(columns={\"AO\":\"Angola\", \"BI\": \"Burundi\", \"BJ\": \"Benin\", \"ET\":\"Ethiopia\", \"GH\": \"Ghana\", \"KE\":\"Kenya\", \"MG\": \"Madagascar\", \"ML\":\"Mali\", \"MZ\":\"Mozambique\",  \"NA\": \"Namibia\", \"NG\":\"Nigeria\", \"RW\":\"Rwanda\", \"SN\": \"Senegal\", \"SL\":\"Sierra Leone\", \"SO\": \"Somalia\", \"UG\":\"Uganda\", \"ZA\":\"South Africa\", \"ZW\":\"Zimbabwe\"})\n",
    "infant_mortality_df = infant_mortality_df.reset_index()\n",
    "infant_mortality_df = infant_mortality_df.rename(columns={\"index\":\"Year\"})\n",
    "infant_mortality_df.head"
   ]
  },
  {
   "cell_type": "code",
   "execution_count": 14,
   "metadata": {},
   "outputs": [
    {
     "data": {
      "text/html": [
       "<div>\n",
       "<style scoped>\n",
       "    .dataframe tbody tr th:only-of-type {\n",
       "        vertical-align: middle;\n",
       "    }\n",
       "\n",
       "    .dataframe tbody tr th {\n",
       "        vertical-align: top;\n",
       "    }\n",
       "\n",
       "    .dataframe thead th {\n",
       "        text-align: right;\n",
       "    }\n",
       "</style>\n",
       "<table border=\"1\" class=\"dataframe\">\n",
       "  <thead>\n",
       "    <tr style=\"text-align: right;\">\n",
       "      <th></th>\n",
       "      <th>Year</th>\n",
       "      <th>Country</th>\n",
       "      <th>Infant Mortality</th>\n",
       "    </tr>\n",
       "  </thead>\n",
       "  <tbody>\n",
       "    <tr>\n",
       "      <th>0</th>\n",
       "      <td>2002</td>\n",
       "      <td>Angola</td>\n",
       "      <td>95971.0</td>\n",
       "    </tr>\n",
       "    <tr>\n",
       "      <th>1</th>\n",
       "      <td>2003</td>\n",
       "      <td>Angola</td>\n",
       "      <td>95253.0</td>\n",
       "    </tr>\n",
       "    <tr>\n",
       "      <th>2</th>\n",
       "      <td>2004</td>\n",
       "      <td>Angola</td>\n",
       "      <td>93986.0</td>\n",
       "    </tr>\n",
       "    <tr>\n",
       "      <th>3</th>\n",
       "      <td>2005</td>\n",
       "      <td>Angola</td>\n",
       "      <td>92430.0</td>\n",
       "    </tr>\n",
       "    <tr>\n",
       "      <th>4</th>\n",
       "      <td>2006</td>\n",
       "      <td>Angola</td>\n",
       "      <td>90346.0</td>\n",
       "    </tr>\n",
       "    <tr>\n",
       "      <th>5</th>\n",
       "      <td>2007</td>\n",
       "      <td>Angola</td>\n",
       "      <td>87956.0</td>\n",
       "    </tr>\n",
       "    <tr>\n",
       "      <th>6</th>\n",
       "      <td>2008</td>\n",
       "      <td>Angola</td>\n",
       "      <td>85249.0</td>\n",
       "    </tr>\n",
       "    <tr>\n",
       "      <th>7</th>\n",
       "      <td>2009</td>\n",
       "      <td>Angola</td>\n",
       "      <td>82217.0</td>\n",
       "    </tr>\n",
       "    <tr>\n",
       "      <th>8</th>\n",
       "      <td>2010</td>\n",
       "      <td>Angola</td>\n",
       "      <td>79220.0</td>\n",
       "    </tr>\n",
       "    <tr>\n",
       "      <th>9</th>\n",
       "      <td>2011</td>\n",
       "      <td>Angola</td>\n",
       "      <td>76226.0</td>\n",
       "    </tr>\n",
       "  </tbody>\n",
       "</table>\n",
       "</div>"
      ],
      "text/plain": [
       "   Year Country  Infant Mortality\n",
       "0  2002  Angola           95971.0\n",
       "1  2003  Angola           95253.0\n",
       "2  2004  Angola           93986.0\n",
       "3  2005  Angola           92430.0\n",
       "4  2006  Angola           90346.0\n",
       "5  2007  Angola           87956.0\n",
       "6  2008  Angola           85249.0\n",
       "7  2009  Angola           82217.0\n",
       "8  2010  Angola           79220.0\n",
       "9  2011  Angola           76226.0"
      ]
     },
     "execution_count": 14,
     "metadata": {},
     "output_type": "execute_result"
    }
   ],
   "source": [
    "infant_mortality_melt=infant_mortality_df.melt(id_vars=[\"Year\"],\n",
    "                                              var_name=\"Country\",\n",
    "                                              value_name=\"Infant Mortality\")\n",
    "infant_mortality_melt.head(10)"
   ]
  },
  {
   "cell_type": "code",
   "execution_count": 9,
   "metadata": {},
   "outputs": [
    {
     "ename": "ValueError",
     "evalue": "You are trying to merge on int64 and object columns. If you wish to proceed you should use pd.concat",
     "output_type": "error",
     "traceback": [
      "\u001b[1;31m---------------------------------------------------------------------------\u001b[0m",
      "\u001b[1;31mValueError\u001b[0m                                Traceback (most recent call last)",
      "\u001b[1;32m<ipython-input-9-7626de5cba16>\u001b[0m in \u001b[0;36m<module>\u001b[1;34m\u001b[0m\n\u001b[1;32m----> 1\u001b[1;33m \u001b[0mcombined_data\u001b[0m\u001b[1;33m=\u001b[0m\u001b[0mpd\u001b[0m\u001b[1;33m.\u001b[0m\u001b[0mmerge\u001b[0m\u001b[1;33m(\u001b[0m\u001b[0mAid_df\u001b[0m\u001b[1;33m,\u001b[0m \u001b[0minfant_mortality_melt\u001b[0m\u001b[1;33m,\u001b[0m \u001b[0mon\u001b[0m\u001b[1;33m=\u001b[0m\u001b[1;33m[\u001b[0m\u001b[1;34m\"Country\"\u001b[0m\u001b[1;33m,\u001b[0m \u001b[1;34m\"Year\"\u001b[0m\u001b[1;33m]\u001b[0m\u001b[1;33m)\u001b[0m\u001b[1;33m\u001b[0m\u001b[1;33m\u001b[0m\u001b[0m\n\u001b[0m",
      "\u001b[1;32m~\\anaconda\\Anaconda3\\lib\\site-packages\\pandas\\core\\reshape\\merge.py\u001b[0m in \u001b[0;36mmerge\u001b[1;34m(left, right, how, on, left_on, right_on, left_index, right_index, sort, suffixes, copy, indicator, validate)\u001b[0m\n\u001b[0;32m     45\u001b[0m                          \u001b[0mright_index\u001b[0m\u001b[1;33m=\u001b[0m\u001b[0mright_index\u001b[0m\u001b[1;33m,\u001b[0m \u001b[0msort\u001b[0m\u001b[1;33m=\u001b[0m\u001b[0msort\u001b[0m\u001b[1;33m,\u001b[0m \u001b[0msuffixes\u001b[0m\u001b[1;33m=\u001b[0m\u001b[0msuffixes\u001b[0m\u001b[1;33m,\u001b[0m\u001b[1;33m\u001b[0m\u001b[1;33m\u001b[0m\u001b[0m\n\u001b[0;32m     46\u001b[0m                          \u001b[0mcopy\u001b[0m\u001b[1;33m=\u001b[0m\u001b[0mcopy\u001b[0m\u001b[1;33m,\u001b[0m \u001b[0mindicator\u001b[0m\u001b[1;33m=\u001b[0m\u001b[0mindicator\u001b[0m\u001b[1;33m,\u001b[0m\u001b[1;33m\u001b[0m\u001b[1;33m\u001b[0m\u001b[0m\n\u001b[1;32m---> 47\u001b[1;33m                          validate=validate)\n\u001b[0m\u001b[0;32m     48\u001b[0m     \u001b[1;32mreturn\u001b[0m \u001b[0mop\u001b[0m\u001b[1;33m.\u001b[0m\u001b[0mget_result\u001b[0m\u001b[1;33m(\u001b[0m\u001b[1;33m)\u001b[0m\u001b[1;33m\u001b[0m\u001b[1;33m\u001b[0m\u001b[0m\n\u001b[0;32m     49\u001b[0m \u001b[1;33m\u001b[0m\u001b[0m\n",
      "\u001b[1;32m~\\anaconda\\Anaconda3\\lib\\site-packages\\pandas\\core\\reshape\\merge.py\u001b[0m in \u001b[0;36m__init__\u001b[1;34m(self, left, right, how, on, left_on, right_on, axis, left_index, right_index, sort, suffixes, copy, indicator, validate)\u001b[0m\n\u001b[0;32m    531\u001b[0m         \u001b[1;31m# validate the merge keys dtypes. We may need to coerce\u001b[0m\u001b[1;33m\u001b[0m\u001b[1;33m\u001b[0m\u001b[1;33m\u001b[0m\u001b[0m\n\u001b[0;32m    532\u001b[0m         \u001b[1;31m# to avoid incompat dtypes\u001b[0m\u001b[1;33m\u001b[0m\u001b[1;33m\u001b[0m\u001b[1;33m\u001b[0m\u001b[0m\n\u001b[1;32m--> 533\u001b[1;33m         \u001b[0mself\u001b[0m\u001b[1;33m.\u001b[0m\u001b[0m_maybe_coerce_merge_keys\u001b[0m\u001b[1;33m(\u001b[0m\u001b[1;33m)\u001b[0m\u001b[1;33m\u001b[0m\u001b[1;33m\u001b[0m\u001b[0m\n\u001b[0m\u001b[0;32m    534\u001b[0m \u001b[1;33m\u001b[0m\u001b[0m\n\u001b[0;32m    535\u001b[0m         \u001b[1;31m# If argument passed to validate,\u001b[0m\u001b[1;33m\u001b[0m\u001b[1;33m\u001b[0m\u001b[1;33m\u001b[0m\u001b[0m\n",
      "\u001b[1;32m~\\anaconda\\Anaconda3\\lib\\site-packages\\pandas\\core\\reshape\\merge.py\u001b[0m in \u001b[0;36m_maybe_coerce_merge_keys\u001b[1;34m(self)\u001b[0m\n\u001b[0;32m    978\u001b[0m                       (inferred_right in string_types and\n\u001b[0;32m    979\u001b[0m                        inferred_left not in string_types)):\n\u001b[1;32m--> 980\u001b[1;33m                     \u001b[1;32mraise\u001b[0m \u001b[0mValueError\u001b[0m\u001b[1;33m(\u001b[0m\u001b[0mmsg\u001b[0m\u001b[1;33m)\u001b[0m\u001b[1;33m\u001b[0m\u001b[1;33m\u001b[0m\u001b[0m\n\u001b[0m\u001b[0;32m    981\u001b[0m \u001b[1;33m\u001b[0m\u001b[0m\n\u001b[0;32m    982\u001b[0m             \u001b[1;31m# datetimelikes must match exactly\u001b[0m\u001b[1;33m\u001b[0m\u001b[1;33m\u001b[0m\u001b[1;33m\u001b[0m\u001b[0m\n",
      "\u001b[1;31mValueError\u001b[0m: You are trying to merge on int64 and object columns. If you wish to proceed you should use pd.concat"
     ]
    }
   ],
   "source": [
    "combined_data=pd.merge(Aid_df, infant_mortality_melt, on=[\"Country\", \"Year\"])"
   ]
  },
  {
   "cell_type": "code",
   "execution_count": null,
   "metadata": {},
   "outputs": [],
   "source": []
  }
 ],
 "metadata": {
  "kernelspec": {
   "display_name": "Python 3",
   "language": "python",
   "name": "python3"
  },
  "language_info": {
   "codemirror_mode": {
    "name": "ipython",
    "version": 3
   },
   "file_extension": ".py",
   "mimetype": "text/x-python",
   "name": "python",
   "nbconvert_exporter": "python",
   "pygments_lexer": "ipython3",
   "version": "3.7.3"
  }
 },
 "nbformat": 4,
 "nbformat_minor": 2
}

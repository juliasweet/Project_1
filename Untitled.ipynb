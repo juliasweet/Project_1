{
 "cells": [
  {
   "cell_type": "code",
   "execution_count": 10,
   "metadata": {},
   "outputs": [],
   "source": [
    "import wbpy\n",
    "import pandas as pd"
   ]
  },
  {
   "cell_type": "code",
   "execution_count": 16,
   "metadata": {},
   "outputs": [],
   "source": [
    "api = wbpy.IndicatorAPI()"
   ]
  },
  {
   "cell_type": "code",
   "execution_count": 17,
   "metadata": {},
   "outputs": [
    {
     "data": {
      "text/plain": [
       "<wbpy.indicators.IndicatorDataset('PV.PER.RNK', 'Political Stability and Absence of Violence/Terrorism: Percentile Rank') with id: 1910119317632>"
      ]
     },
     "execution_count": 17,
     "metadata": {},
     "output_type": "execute_result"
    }
   ],
   "source": [
    "api = wbpy.IndicatorAPI()\n",
    "\n",
    "iso_country_codes = [\"KEN\", \"ZA\", \"NGA\", \"ZWE\", \"ETH\", \"UGA\",\n",
    "                     \"GHA\", \"SEN\", \"MDG\", \"MOZ\", \"NAM\"]\n",
    "stability = \"PV.PER.RNK\"\n",
    "\n",
    "dataset_PER_RNK = api.get_dataset(stability, iso_country_codes, date=\"2010:2017\")\n",
    "dataset_PER_RNK\n"
   ]
  },
  {
   "cell_type": "code",
   "execution_count": 19,
   "metadata": {},
   "outputs": [],
   "source": [
    "d2=dataset_PER_RNK.as_dict()"
   ]
  },
  {
   "cell_type": "code",
   "execution_count": 20,
   "metadata": {},
   "outputs": [],
   "source": [
    "stabilityrank2_df=pd.DataFrame(data=d2)"
   ]
  },
  {
   "cell_type": "code",
   "execution_count": 21,
   "metadata": {},
   "outputs": [
    {
     "data": {
      "text/html": [
       "<div>\n",
       "<style scoped>\n",
       "    .dataframe tbody tr th:only-of-type {\n",
       "        vertical-align: middle;\n",
       "    }\n",
       "\n",
       "    .dataframe tbody tr th {\n",
       "        vertical-align: top;\n",
       "    }\n",
       "\n",
       "    .dataframe thead th {\n",
       "        text-align: right;\n",
       "    }\n",
       "</style>\n",
       "<table border=\"1\" class=\"dataframe\">\n",
       "  <thead>\n",
       "    <tr style=\"text-align: right;\">\n",
       "      <th></th>\n",
       "      <th>ET</th>\n",
       "      <th>GH</th>\n",
       "      <th>KE</th>\n",
       "      <th>MG</th>\n",
       "      <th>MZ</th>\n",
       "      <th>NA</th>\n",
       "      <th>NG</th>\n",
       "      <th>SN</th>\n",
       "      <th>UG</th>\n",
       "      <th>ZA</th>\n",
       "      <th>ZW</th>\n",
       "    </tr>\n",
       "  </thead>\n",
       "  <tbody>\n",
       "    <tr>\n",
       "      <th>2010</th>\n",
       "      <td>5.687204</td>\n",
       "      <td>46.91943</td>\n",
       "      <td>12.796210</td>\n",
       "      <td>17.06161</td>\n",
       "      <td>58.29384</td>\n",
       "      <td>75.82938</td>\n",
       "      <td>2.843602</td>\n",
       "      <td>31.75356</td>\n",
       "      <td>16.11374</td>\n",
       "      <td>45.02370</td>\n",
       "      <td>13.74408</td>\n",
       "    </tr>\n",
       "    <tr>\n",
       "      <th>2011</th>\n",
       "      <td>6.161138</td>\n",
       "      <td>52.60664</td>\n",
       "      <td>12.796210</td>\n",
       "      <td>24.64455</td>\n",
       "      <td>58.29384</td>\n",
       "      <td>73.45972</td>\n",
       "      <td>3.317536</td>\n",
       "      <td>37.91469</td>\n",
       "      <td>18.00948</td>\n",
       "      <td>48.81517</td>\n",
       "      <td>19.43128</td>\n",
       "    </tr>\n",
       "    <tr>\n",
       "      <th>2012</th>\n",
       "      <td>7.109005</td>\n",
       "      <td>50.71090</td>\n",
       "      <td>10.426540</td>\n",
       "      <td>28.90995</td>\n",
       "      <td>59.24171</td>\n",
       "      <td>81.04266</td>\n",
       "      <td>3.317536</td>\n",
       "      <td>40.75829</td>\n",
       "      <td>20.37915</td>\n",
       "      <td>43.12796</td>\n",
       "      <td>21.80095</td>\n",
       "    </tr>\n",
       "    <tr>\n",
       "      <th>2013</th>\n",
       "      <td>8.056872</td>\n",
       "      <td>47.86730</td>\n",
       "      <td>13.744080</td>\n",
       "      <td>24.64455</td>\n",
       "      <td>38.38863</td>\n",
       "      <td>78.67299</td>\n",
       "      <td>3.791469</td>\n",
       "      <td>43.60189</td>\n",
       "      <td>19.90521</td>\n",
       "      <td>45.02370</td>\n",
       "      <td>24.17062</td>\n",
       "    </tr>\n",
       "    <tr>\n",
       "      <th>2014</th>\n",
       "      <td>8.571428</td>\n",
       "      <td>41.42857</td>\n",
       "      <td>9.047619</td>\n",
       "      <td>26.66667</td>\n",
       "      <td>32.38095</td>\n",
       "      <td>66.66666</td>\n",
       "      <td>5.238095</td>\n",
       "      <td>37.14286</td>\n",
       "      <td>15.23810</td>\n",
       "      <td>40.00000</td>\n",
       "      <td>22.38095</td>\n",
       "    </tr>\n",
       "    <tr>\n",
       "      <th>2015</th>\n",
       "      <td>8.095238</td>\n",
       "      <td>44.28571</td>\n",
       "      <td>9.523809</td>\n",
       "      <td>30.47619</td>\n",
       "      <td>27.61905</td>\n",
       "      <td>69.52381</td>\n",
       "      <td>6.190476</td>\n",
       "      <td>41.90476</td>\n",
       "      <td>20.95238</td>\n",
       "      <td>39.52381</td>\n",
       "      <td>24.28572</td>\n",
       "    </tr>\n",
       "    <tr>\n",
       "      <th>2016</th>\n",
       "      <td>7.619048</td>\n",
       "      <td>40.95238</td>\n",
       "      <td>10.000000</td>\n",
       "      <td>35.23809</td>\n",
       "      <td>12.85714</td>\n",
       "      <td>70.95238</td>\n",
       "      <td>6.190476</td>\n",
       "      <td>37.61905</td>\n",
       "      <td>21.42857</td>\n",
       "      <td>40.00000</td>\n",
       "      <td>24.76191</td>\n",
       "    </tr>\n",
       "    <tr>\n",
       "      <th>2017</th>\n",
       "      <td>7.619048</td>\n",
       "      <td>49.52381</td>\n",
       "      <td>12.857140</td>\n",
       "      <td>32.85714</td>\n",
       "      <td>14.28571</td>\n",
       "      <td>68.57143</td>\n",
       "      <td>5.238095</td>\n",
       "      <td>43.33333</td>\n",
       "      <td>27.14286</td>\n",
       "      <td>35.71429</td>\n",
       "      <td>18.09524</td>\n",
       "    </tr>\n",
       "  </tbody>\n",
       "</table>\n",
       "</div>"
      ],
      "text/plain": [
       "            ET        GH         KE        MG        MZ        NA        NG  \\\n",
       "2010  5.687204  46.91943  12.796210  17.06161  58.29384  75.82938  2.843602   \n",
       "2011  6.161138  52.60664  12.796210  24.64455  58.29384  73.45972  3.317536   \n",
       "2012  7.109005  50.71090  10.426540  28.90995  59.24171  81.04266  3.317536   \n",
       "2013  8.056872  47.86730  13.744080  24.64455  38.38863  78.67299  3.791469   \n",
       "2014  8.571428  41.42857   9.047619  26.66667  32.38095  66.66666  5.238095   \n",
       "2015  8.095238  44.28571   9.523809  30.47619  27.61905  69.52381  6.190476   \n",
       "2016  7.619048  40.95238  10.000000  35.23809  12.85714  70.95238  6.190476   \n",
       "2017  7.619048  49.52381  12.857140  32.85714  14.28571  68.57143  5.238095   \n",
       "\n",
       "            SN        UG        ZA        ZW  \n",
       "2010  31.75356  16.11374  45.02370  13.74408  \n",
       "2011  37.91469  18.00948  48.81517  19.43128  \n",
       "2012  40.75829  20.37915  43.12796  21.80095  \n",
       "2013  43.60189  19.90521  45.02370  24.17062  \n",
       "2014  37.14286  15.23810  40.00000  22.38095  \n",
       "2015  41.90476  20.95238  39.52381  24.28572  \n",
       "2016  37.61905  21.42857  40.00000  24.76191  \n",
       "2017  43.33333  27.14286  35.71429  18.09524  "
      ]
     },
     "execution_count": 21,
     "metadata": {},
     "output_type": "execute_result"
    }
   ],
   "source": [
    "stabilityrank2_df"
   ]
  },
  {
   "cell_type": "code",
   "execution_count": null,
   "metadata": {},
   "outputs": [],
   "source": []
  }
 ],
 "metadata": {
  "kernelspec": {
   "display_name": "Python 3",
   "language": "python",
   "name": "python3"
  },
  "language_info": {
   "codemirror_mode": {
    "name": "ipython",
    "version": 3
   },
   "file_extension": ".py",
   "mimetype": "text/x-python",
   "name": "python",
   "nbconvert_exporter": "python",
   "pygments_lexer": "ipython3",
   "version": "3.7.3"
  }
 },
 "nbformat": 4,
 "nbformat_minor": 2
}
